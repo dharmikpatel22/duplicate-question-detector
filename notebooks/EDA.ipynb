{
 "cells": [
  {
   "cell_type": "code",
   "execution_count": 1,
   "metadata": {},
   "outputs": [
    {
     "name": "stderr",
     "output_type": "stream",
     "text": [
      "c:\\Users\\patel\\AppData\\Local\\pypoetry\\Cache\\virtualenvs\\nlp-pilot-tshiTeZt-py3.12\\Lib\\site-packages\\tqdm\\auto.py:21: TqdmWarning: IProgress not found. Please update jupyter and ipywidgets. See https://ipywidgets.readthedocs.io/en/stable/user_install.html\n",
      "  from .autonotebook import tqdm as notebook_tqdm\n"
     ]
    }
   ],
   "source": [
    "from datasets import load_dataset"
   ]
  },
  {
   "cell_type": "code",
   "execution_count": 2,
   "metadata": {},
   "outputs": [
    {
     "data": {
      "text/plain": [
       "DatasetDict({\n",
       "    train: Dataset({\n",
       "        features: ['questions', 'is_duplicate'],\n",
       "        num_rows: 404290\n",
       "    })\n",
       "})"
      ]
     },
     "execution_count": 2,
     "metadata": {},
     "output_type": "execute_result"
    }
   ],
   "source": [
    "raw_dataset = load_dataset(\"quora\", trust_remote_code=True)\n",
    "raw_dataset"
   ]
  },
  {
   "cell_type": "code",
   "execution_count": 3,
   "metadata": {},
   "outputs": [
    {
     "data": {
      "text/plain": [
       "{'questions': Sequence(feature={'id': Value(dtype='int32', id=None), 'text': Value(dtype='string', id=None)}, length=-1, id=None),\n",
       " 'is_duplicate': Value(dtype='bool', id=None)}"
      ]
     },
     "execution_count": 3,
     "metadata": {},
     "output_type": "execute_result"
    }
   ],
   "source": [
    "raw_dataset[\"train\"].features"
   ]
  },
  {
   "cell_type": "code",
   "execution_count": 4,
   "metadata": {},
   "outputs": [
    {
     "name": "stdout",
     "output_type": "stream",
     "text": [
      "<class 'datasets.dataset_dict.DatasetDict'>\n"
     ]
    },
    {
     "data": {
      "text/plain": [
       "DatasetInfo(description='The Quora dataset is composed of question pairs, and the task is to determine if the questions are paraphrases of each other (have the same meaning).', citation='', homepage='https://www.quora.com/q/quoradata/First-Quora-Dataset-Release-Question-Pairs', license='', features={'questions': Sequence(feature={'id': Value(dtype='int32', id=None), 'text': Value(dtype='string', id=None)}, length=-1, id=None), 'is_duplicate': Value(dtype='bool', id=None)}, post_processed=None, supervised_keys=None, task_templates=None, builder_name='quora', dataset_name='quora', config_name='default', version=0.0.0, splits={'train': SplitInfo(name='train', num_bytes=58155130, num_examples=404290, shard_lengths=None, dataset_name='quora')}, download_checksums={'http://qim.fs.quoracdn.net/quora_duplicate_questions.tsv': {'num_bytes': 58176133, 'checksum': None}}, download_size=58176133, post_processing_size=None, dataset_size=58155130, size_in_bytes=116331263)"
      ]
     },
     "execution_count": 4,
     "metadata": {},
     "output_type": "execute_result"
    }
   ],
   "source": [
    "print(type(raw_dataset))\n",
    "raw_dataset[\"train\"].info"
   ]
  },
  {
   "cell_type": "code",
   "execution_count": 5,
   "metadata": {},
   "outputs": [
    {
     "data": {
      "text/plain": [
       "Dataset({\n",
       "    features: ['questions', 'is_duplicate'],\n",
       "    num_rows: 1000\n",
       "})"
      ]
     },
     "execution_count": 5,
     "metadata": {},
     "output_type": "execute_result"
    }
   ],
   "source": [
    "dataset_sample = raw_dataset[\"train\"].shuffle(seed=2).select(range(1000))\n",
    "dataset_sample"
   ]
  },
  {
   "cell_type": "code",
   "execution_count": 6,
   "metadata": {
    "scrolled": true
   },
   "outputs": [
    {
     "data": {
      "text/plain": [
       "[{'id': [425413, 283179],\n",
       "  'text': ['What do foreigners think about India and Indians?',\n",
       "   'What do Indians think about India?']},\n",
       " {'id': [463377, 463378],\n",
       "  'text': ['Why do complicated games with hundreds of thousands of dollars put into them usually end up boring?',\n",
       "   'Does the planet Earth becomes lighter when satellites are launched?']},\n",
       " {'id': [502323, 502324],\n",
       "  'text': ['How should I manage time in English board exam? I am never able to manage time in English exams. As the paper is very lengthy.',\n",
       "   'I have heard that Class 11 English paper is very lengthy & students are not able to complete the paper on time. So how can I complete it on time?']},\n",
       " {'id': [285752, 285753],\n",
       "  'text': [\"Why did Sharapova get accepted at Harvard if she's a cheater?\",\n",
       "   'How did Maria Sharapova get into Harvard Business School?']},\n",
       " {'id': [104455, 93738],\n",
       "  'text': ['Is PC gaming better than console gaming?',\n",
       "   'PC gaming vs console gaming: What are the advantages of each platform over the other? Which is better?']}]"
      ]
     },
     "execution_count": 6,
     "metadata": {},
     "output_type": "execute_result"
    }
   ],
   "source": [
    "dataset_sample[:5][\"questions\"]"
   ]
  },
  {
   "cell_type": "code",
   "execution_count": 7,
   "metadata": {},
   "outputs": [],
   "source": [
    "# # Dumping the text to a file in order to take a quick look for the kinds of inconsistencies that should be cleaned.\n",
    "\n",
    "# with open(\"question-pairs.txt\", \"w\", encoding=\"utf-8\") as file:\n",
    "#     for question_set in raw_dataset[\"train\"]:\n",
    "#         question1 = question_set[\"questions\"][\"text\"][0]\n",
    "#         question2 = question_set[\"questions\"][\"text\"][1]\n",
    "        \n",
    "#         file.write(f\"{question1}\\n{question2}\\n{question_set[\"is_duplicate\"]}\\n\\n\")"
   ]
  },
  {
   "cell_type": "code",
   "execution_count": null,
   "metadata": {},
   "outputs": [],
   "source": []
  }
 ],
 "metadata": {
  "kernelspec": {
   "display_name": "nlp-pilot-tshiTeZt-py3.12",
   "language": "python",
   "name": "python3"
  },
  "language_info": {
   "codemirror_mode": {
    "name": "ipython",
    "version": 3
   },
   "file_extension": ".py",
   "mimetype": "text/x-python",
   "name": "python",
   "nbconvert_exporter": "python",
   "pygments_lexer": "ipython3",
   "version": "3.12.4"
  }
 },
 "nbformat": 4,
 "nbformat_minor": 2
}
